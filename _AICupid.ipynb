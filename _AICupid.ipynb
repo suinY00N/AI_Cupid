{
  "nbformat": 4,
  "nbformat_minor": 0,
  "metadata": {
    "colab": {
      "provenance": [],
      "gpuType": "L4"
    },
    "kernelspec": {
      "name": "python3",
      "display_name": "Python 3"
    },
    "language_info": {
      "name": "python"
    },
    "accelerator": "GPU"
  },
  "cells": [
    {
      "cell_type": "markdown",
      "source": [
        "## 얼굴 인식을 위한 라이브러리 설치"
      ],
      "metadata": {
        "id": "8sclMSWV7tHn"
      }
    },
    {
      "cell_type": "code",
      "source": [
        "!pip install face_recognition\n",
        "!pip install opencv-python\n"
      ],
      "metadata": {
        "colab": {
          "base_uri": "https://localhost:8080/"
        },
        "id": "mCmiZKXp2d3E",
        "outputId": "67e9e979-cf84-41b4-9cc2-8c9fe6cee021"
      },
      "execution_count": null,
      "outputs": [
        {
          "output_type": "stream",
          "name": "stdout",
          "text": [
            "Requirement already satisfied: face_recognition in /usr/local/lib/python3.10/dist-packages (1.3.0)\n",
            "Requirement already satisfied: face-recognition-models>=0.3.0 in /usr/local/lib/python3.10/dist-packages (from face_recognition) (0.3.0)\n",
            "Requirement already satisfied: Click>=6.0 in /usr/local/lib/python3.10/dist-packages (from face_recognition) (8.1.7)\n",
            "Requirement already satisfied: dlib>=19.7 in /usr/local/lib/python3.10/dist-packages (from face_recognition) (19.24.4)\n",
            "Requirement already satisfied: numpy in /usr/local/lib/python3.10/dist-packages (from face_recognition) (1.25.2)\n",
            "Requirement already satisfied: Pillow in /usr/local/lib/python3.10/dist-packages (from face_recognition) (9.4.0)\n",
            "Requirement already satisfied: opencv-python in /usr/local/lib/python3.10/dist-packages (4.8.0.76)\n",
            "Requirement already satisfied: numpy>=1.21.2 in /usr/local/lib/python3.10/dist-packages (from opencv-python) (1.25.2)\n"
          ]
        }
      ]
    },
    {
      "cell_type": "code",
      "source": [
        "import face_recognition\n",
        "import cv2\n",
        "import numpy as np\n",
        "import os\n",
        "\n",
        "# CUDA를 사용하지 않도록 설정\n",
        "import dlib\n",
        "dlib.DLIB_USE_CUDA = True\n"
      ],
      "metadata": {
        "id": "6y8ZClNB2gyF"
      },
      "execution_count": null,
      "outputs": []
    },
    {
      "cell_type": "code",
      "source": [
        "!pip install pandas # csv 파일 만들기 위한 pandas 설치"
      ],
      "metadata": {
        "colab": {
          "base_uri": "https://localhost:8080/"
        },
        "id": "ZuZFkwhhXs0V",
        "outputId": "4f70d491-a8a2-4ccf-8f9f-39d4edd3e3be"
      },
      "execution_count": null,
      "outputs": [
        {
          "output_type": "stream",
          "name": "stdout",
          "text": [
            "Requirement already satisfied: pandas in /usr/local/lib/python3.10/dist-packages (2.0.3)\n",
            "Requirement already satisfied: python-dateutil>=2.8.2 in /usr/local/lib/python3.10/dist-packages (from pandas) (2.8.2)\n",
            "Requirement already satisfied: pytz>=2020.1 in /usr/local/lib/python3.10/dist-packages (from pandas) (2023.4)\n",
            "Requirement already satisfied: tzdata>=2022.1 in /usr/local/lib/python3.10/dist-packages (from pandas) (2024.1)\n",
            "Requirement already satisfied: numpy>=1.21.0 in /usr/local/lib/python3.10/dist-packages (from pandas) (1.25.2)\n",
            "Requirement already satisfied: six>=1.5 in /usr/local/lib/python3.10/dist-packages (from python-dateutil>=2.8.2->pandas) (1.16.0)\n"
          ]
        }
      ]
    },
    {
      "cell_type": "code",
      "source": [
        "!pip install deepface # 얼굴 인식을 위한 deepface 라이브러리 설치"
      ],
      "metadata": {
        "colab": {
          "base_uri": "https://localhost:8080/"
        },
        "id": "NPxf716ZXxsU",
        "outputId": "9485ef5b-1354-4872-fec5-84c2a183877e"
      },
      "execution_count": null,
      "outputs": [
        {
          "output_type": "stream",
          "name": "stdout",
          "text": [
            "Collecting deepface\n",
            "  Downloading deepface-0.0.92-py3-none-any.whl (105 kB)\n",
            "\u001b[?25l     \u001b[90m━━━━━━━━━━━━━━━━━━━━━━━━━━━━━━━━━━━━━━━━\u001b[0m \u001b[32m0.0/105.5 kB\u001b[0m \u001b[31m?\u001b[0m eta \u001b[36m-:--:--\u001b[0m\r\u001b[2K     \u001b[90m━━━━━━━━━━━━━━━━━━━━━━━━━━━━━━━━━━━━━━━━\u001b[0m \u001b[32m105.5/105.5 kB\u001b[0m \u001b[31m3.3 MB/s\u001b[0m eta \u001b[36m0:00:00\u001b[0m\n",
            "\u001b[?25hRequirement already satisfied: requests>=2.27.1 in /usr/local/lib/python3.10/dist-packages (from deepface) (2.31.0)\n",
            "Requirement already satisfied: numpy>=1.14.0 in /usr/local/lib/python3.10/dist-packages (from deepface) (1.25.2)\n",
            "Requirement already satisfied: pandas>=0.23.4 in /usr/local/lib/python3.10/dist-packages (from deepface) (2.0.3)\n",
            "Requirement already satisfied: gdown>=3.10.1 in /usr/local/lib/python3.10/dist-packages (from deepface) (5.1.0)\n",
            "Requirement already satisfied: tqdm>=4.30.0 in /usr/local/lib/python3.10/dist-packages (from deepface) (4.66.4)\n",
            "Requirement already satisfied: Pillow>=5.2.0 in /usr/local/lib/python3.10/dist-packages (from deepface) (9.4.0)\n",
            "Requirement already satisfied: opencv-python>=4.5.5.64 in /usr/local/lib/python3.10/dist-packages (from deepface) (4.8.0.76)\n",
            "Requirement already satisfied: tensorflow>=1.9.0 in /usr/local/lib/python3.10/dist-packages (from deepface) (2.15.0)\n",
            "Requirement already satisfied: keras>=2.2.0 in /usr/local/lib/python3.10/dist-packages (from deepface) (2.15.0)\n",
            "Requirement already satisfied: Flask>=1.1.2 in /usr/local/lib/python3.10/dist-packages (from deepface) (2.2.5)\n",
            "Collecting mtcnn>=0.1.0 (from deepface)\n",
            "  Downloading mtcnn-0.1.1-py3-none-any.whl (2.3 MB)\n",
            "\u001b[2K     \u001b[90m━━━━━━━━━━━━━━━━━━━━━━━━━━━━━━━━━━━━━━━━\u001b[0m \u001b[32m2.3/2.3 MB\u001b[0m \u001b[31m60.2 MB/s\u001b[0m eta \u001b[36m0:00:00\u001b[0m\n",
            "\u001b[?25hCollecting retina-face>=0.0.1 (from deepface)\n",
            "  Downloading retina_face-0.0.17-py3-none-any.whl (25 kB)\n",
            "Collecting fire>=0.4.0 (from deepface)\n",
            "  Downloading fire-0.6.0.tar.gz (88 kB)\n",
            "\u001b[2K     \u001b[90m━━━━━━━━━━━━━━━━━━━━━━━━━━━━━━━━━━━━━━━━\u001b[0m \u001b[32m88.4/88.4 kB\u001b[0m \u001b[31m17.2 MB/s\u001b[0m eta \u001b[36m0:00:00\u001b[0m\n",
            "\u001b[?25h  Preparing metadata (setup.py) ... \u001b[?25l\u001b[?25hdone\n",
            "Collecting gunicorn>=20.1.0 (from deepface)\n",
            "  Downloading gunicorn-22.0.0-py3-none-any.whl (84 kB)\n",
            "\u001b[2K     \u001b[90m━━━━━━━━━━━━━━━━━━━━━━━━━━━━━━━━━━━━━━━━\u001b[0m \u001b[32m84.4/84.4 kB\u001b[0m \u001b[31m13.8 MB/s\u001b[0m eta \u001b[36m0:00:00\u001b[0m\n",
            "\u001b[?25hRequirement already satisfied: six in /usr/local/lib/python3.10/dist-packages (from fire>=0.4.0->deepface) (1.16.0)\n",
            "Requirement already satisfied: termcolor in /usr/local/lib/python3.10/dist-packages (from fire>=0.4.0->deepface) (2.4.0)\n",
            "Requirement already satisfied: Werkzeug>=2.2.2 in /usr/local/lib/python3.10/dist-packages (from Flask>=1.1.2->deepface) (3.0.3)\n",
            "Requirement already satisfied: Jinja2>=3.0 in /usr/local/lib/python3.10/dist-packages (from Flask>=1.1.2->deepface) (3.1.4)\n",
            "Requirement already satisfied: itsdangerous>=2.0 in /usr/local/lib/python3.10/dist-packages (from Flask>=1.1.2->deepface) (2.2.0)\n",
            "Requirement already satisfied: click>=8.0 in /usr/local/lib/python3.10/dist-packages (from Flask>=1.1.2->deepface) (8.1.7)\n",
            "Requirement already satisfied: beautifulsoup4 in /usr/local/lib/python3.10/dist-packages (from gdown>=3.10.1->deepface) (4.12.3)\n",
            "Requirement already satisfied: filelock in /usr/local/lib/python3.10/dist-packages (from gdown>=3.10.1->deepface) (3.14.0)\n",
            "Requirement already satisfied: packaging in /usr/local/lib/python3.10/dist-packages (from gunicorn>=20.1.0->deepface) (24.1)\n",
            "Requirement already satisfied: python-dateutil>=2.8.2 in /usr/local/lib/python3.10/dist-packages (from pandas>=0.23.4->deepface) (2.8.2)\n",
            "Requirement already satisfied: pytz>=2020.1 in /usr/local/lib/python3.10/dist-packages (from pandas>=0.23.4->deepface) (2023.4)\n",
            "Requirement already satisfied: tzdata>=2022.1 in /usr/local/lib/python3.10/dist-packages (from pandas>=0.23.4->deepface) (2024.1)\n",
            "Requirement already satisfied: charset-normalizer<4,>=2 in /usr/local/lib/python3.10/dist-packages (from requests>=2.27.1->deepface) (3.3.2)\n",
            "Requirement already satisfied: idna<4,>=2.5 in /usr/local/lib/python3.10/dist-packages (from requests>=2.27.1->deepface) (3.7)\n",
            "Requirement already satisfied: urllib3<3,>=1.21.1 in /usr/local/lib/python3.10/dist-packages (from requests>=2.27.1->deepface) (2.0.7)\n",
            "Requirement already satisfied: certifi>=2017.4.17 in /usr/local/lib/python3.10/dist-packages (from requests>=2.27.1->deepface) (2024.6.2)\n",
            "Requirement already satisfied: absl-py>=1.0.0 in /usr/local/lib/python3.10/dist-packages (from tensorflow>=1.9.0->deepface) (1.4.0)\n",
            "Requirement already satisfied: astunparse>=1.6.0 in /usr/local/lib/python3.10/dist-packages (from tensorflow>=1.9.0->deepface) (1.6.3)\n",
            "Requirement already satisfied: flatbuffers>=23.5.26 in /usr/local/lib/python3.10/dist-packages (from tensorflow>=1.9.0->deepface) (24.3.25)\n",
            "Requirement already satisfied: gast!=0.5.0,!=0.5.1,!=0.5.2,>=0.2.1 in /usr/local/lib/python3.10/dist-packages (from tensorflow>=1.9.0->deepface) (0.5.4)\n",
            "Requirement already satisfied: google-pasta>=0.1.1 in /usr/local/lib/python3.10/dist-packages (from tensorflow>=1.9.0->deepface) (0.2.0)\n",
            "Requirement already satisfied: h5py>=2.9.0 in /usr/local/lib/python3.10/dist-packages (from tensorflow>=1.9.0->deepface) (3.9.0)\n",
            "Requirement already satisfied: libclang>=13.0.0 in /usr/local/lib/python3.10/dist-packages (from tensorflow>=1.9.0->deepface) (18.1.1)\n",
            "Requirement already satisfied: ml-dtypes~=0.2.0 in /usr/local/lib/python3.10/dist-packages (from tensorflow>=1.9.0->deepface) (0.2.0)\n",
            "Requirement already satisfied: opt-einsum>=2.3.2 in /usr/local/lib/python3.10/dist-packages (from tensorflow>=1.9.0->deepface) (3.3.0)\n",
            "Requirement already satisfied: protobuf!=4.21.0,!=4.21.1,!=4.21.2,!=4.21.3,!=4.21.4,!=4.21.5,<5.0.0dev,>=3.20.3 in /usr/local/lib/python3.10/dist-packages (from tensorflow>=1.9.0->deepface) (3.20.3)\n",
            "Requirement already satisfied: setuptools in /usr/local/lib/python3.10/dist-packages (from tensorflow>=1.9.0->deepface) (67.7.2)\n",
            "Requirement already satisfied: typing-extensions>=3.6.6 in /usr/local/lib/python3.10/dist-packages (from tensorflow>=1.9.0->deepface) (4.12.2)\n",
            "Requirement already satisfied: wrapt<1.15,>=1.11.0 in /usr/local/lib/python3.10/dist-packages (from tensorflow>=1.9.0->deepface) (1.14.1)\n",
            "Requirement already satisfied: tensorflow-io-gcs-filesystem>=0.23.1 in /usr/local/lib/python3.10/dist-packages (from tensorflow>=1.9.0->deepface) (0.37.0)\n",
            "Requirement already satisfied: grpcio<2.0,>=1.24.3 in /usr/local/lib/python3.10/dist-packages (from tensorflow>=1.9.0->deepface) (1.64.1)\n",
            "Requirement already satisfied: tensorboard<2.16,>=2.15 in /usr/local/lib/python3.10/dist-packages (from tensorflow>=1.9.0->deepface) (2.15.2)\n",
            "Requirement already satisfied: tensorflow-estimator<2.16,>=2.15.0 in /usr/local/lib/python3.10/dist-packages (from tensorflow>=1.9.0->deepface) (2.15.0)\n",
            "Requirement already satisfied: wheel<1.0,>=0.23.0 in /usr/local/lib/python3.10/dist-packages (from astunparse>=1.6.0->tensorflow>=1.9.0->deepface) (0.43.0)\n",
            "Requirement already satisfied: MarkupSafe>=2.0 in /usr/local/lib/python3.10/dist-packages (from Jinja2>=3.0->Flask>=1.1.2->deepface) (2.1.5)\n",
            "Requirement already satisfied: google-auth<3,>=1.6.3 in /usr/local/lib/python3.10/dist-packages (from tensorboard<2.16,>=2.15->tensorflow>=1.9.0->deepface) (2.27.0)\n",
            "Requirement already satisfied: google-auth-oauthlib<2,>=0.5 in /usr/local/lib/python3.10/dist-packages (from tensorboard<2.16,>=2.15->tensorflow>=1.9.0->deepface) (1.2.0)\n",
            "Requirement already satisfied: markdown>=2.6.8 in /usr/local/lib/python3.10/dist-packages (from tensorboard<2.16,>=2.15->tensorflow>=1.9.0->deepface) (3.6)\n",
            "Requirement already satisfied: tensorboard-data-server<0.8.0,>=0.7.0 in /usr/local/lib/python3.10/dist-packages (from tensorboard<2.16,>=2.15->tensorflow>=1.9.0->deepface) (0.7.2)\n",
            "Requirement already satisfied: soupsieve>1.2 in /usr/local/lib/python3.10/dist-packages (from beautifulsoup4->gdown>=3.10.1->deepface) (2.5)\n",
            "Requirement already satisfied: PySocks!=1.5.7,>=1.5.6 in /usr/local/lib/python3.10/dist-packages (from requests>=2.27.1->deepface) (1.7.1)\n",
            "Requirement already satisfied: cachetools<6.0,>=2.0.0 in /usr/local/lib/python3.10/dist-packages (from google-auth<3,>=1.6.3->tensorboard<2.16,>=2.15->tensorflow>=1.9.0->deepface) (5.3.3)\n",
            "Requirement already satisfied: pyasn1-modules>=0.2.1 in /usr/local/lib/python3.10/dist-packages (from google-auth<3,>=1.6.3->tensorboard<2.16,>=2.15->tensorflow>=1.9.0->deepface) (0.4.0)\n",
            "Requirement already satisfied: rsa<5,>=3.1.4 in /usr/local/lib/python3.10/dist-packages (from google-auth<3,>=1.6.3->tensorboard<2.16,>=2.15->tensorflow>=1.9.0->deepface) (4.9)\n",
            "Requirement already satisfied: requests-oauthlib>=0.7.0 in /usr/local/lib/python3.10/dist-packages (from google-auth-oauthlib<2,>=0.5->tensorboard<2.16,>=2.15->tensorflow>=1.9.0->deepface) (1.3.1)\n",
            "Requirement already satisfied: pyasn1<0.7.0,>=0.4.6 in /usr/local/lib/python3.10/dist-packages (from pyasn1-modules>=0.2.1->google-auth<3,>=1.6.3->tensorboard<2.16,>=2.15->tensorflow>=1.9.0->deepface) (0.6.0)\n",
            "Requirement already satisfied: oauthlib>=3.0.0 in /usr/local/lib/python3.10/dist-packages (from requests-oauthlib>=0.7.0->google-auth-oauthlib<2,>=0.5->tensorboard<2.16,>=2.15->tensorflow>=1.9.0->deepface) (3.2.2)\n",
            "Building wheels for collected packages: fire\n",
            "  Building wheel for fire (setup.py) ... \u001b[?25l\u001b[?25hdone\n",
            "  Created wheel for fire: filename=fire-0.6.0-py2.py3-none-any.whl size=117029 sha256=8f455264c99fe800e3008c14a3e7e5d7b0cf77abcd71dcb8c0b550bbb697dc9e\n",
            "  Stored in directory: /root/.cache/pip/wheels/d6/6d/5d/5b73fa0f46d01a793713f8859201361e9e581ced8c75e5c6a3\n",
            "Successfully built fire\n",
            "Installing collected packages: gunicorn, fire, mtcnn, retina-face, deepface\n",
            "Successfully installed deepface-0.0.92 fire-0.6.0 gunicorn-22.0.0 mtcnn-0.1.1 retina-face-0.0.17\n"
          ]
        }
      ]
    },
    {
      "cell_type": "markdown",
      "source": [
        "## face_recognition 라이브러리 이용하여 유사도 계산\n",
        "### 유사도 높은 남녀 / 유사도 낮은 남녀 매칭\n",
        "가장 유사도가 낮은 사람에 모두 외국인 여성 8,9번이 매칭되는 문제 발생."
      ],
      "metadata": {
        "id": "HypsCgSN98ln"
      }
    },
    {
      "cell_type": "code",
      "source": [
        "import os\n",
        "import face_recognition\n",
        "\n",
        "# 이미지 폴더 경로\n",
        "image_folder = '/content/drive/MyDrive/images_3'\n",
        "\n",
        "# 남자와 여자 이미지 파일명 리스트 생성\n",
        "male_files = [f'{i}_M.jpeg' for i in range(1, 33)]\n",
        "female_files = [f'{i}_F.jpeg' for i in range(1, 23)]\n",
        "\n",
        "# 이미지 파일 경로 확인\n",
        "all_files = male_files + female_files\n",
        "missing_files = [file for file in all_files if not os.path.exists(os.path.join(image_folder, file))]\n",
        "\n",
        "if missing_files:\n",
        "    print(\"다음 파일들이 존재하지 않습니다:\")\n",
        "    for file in missing_files:\n",
        "        print(file)\n",
        "else:\n",
        "    print(\"모든 파일이 존재합니다.\")\n",
        "\n",
        "# 얼굴 인코딩을 저장할 딕셔너리\n",
        "male_encodings = {}\n",
        "female_encodings = {}\n",
        "\n",
        "# 남자 얼굴 인코딩\n",
        "for file in male_files:\n",
        "    img_path = os.path.join(image_folder, file)\n",
        "    image = face_recognition.load_image_file(img_path)\n",
        "    encoding = face_recognition.face_encodings(image)\n",
        "    if encoding:\n",
        "        male_encodings[file] = encoding[0]\n",
        "\n",
        "# 여자 얼굴 인코딩\n",
        "for file in female_files:\n",
        "    img_path = os.path.join(image_folder, file)\n",
        "    image = face_recognition.load_image_file(img_path)\n",
        "    encoding = face_recognition.face_encodings(image)\n",
        "    if encoding:\n",
        "        female_encodings[file] = encoding[0]\n",
        "\n",
        "# 모든 남자 이미지 대상으로 비교\n",
        "for target_male in male_files:\n",
        "    target_encoding = male_encodings.get(target_male)\n",
        "    if target_encoding is None:\n",
        "        print(f\"{target_male}의 얼굴 인코딩을 찾을 수 없습니다.\")\n",
        "        continue\n",
        "\n",
        "    # 유사도 계산\n",
        "    similarities = {}\n",
        "    for female, encoding in female_encodings.items():\n",
        "        distance = face_recognition.face_distance([target_encoding], encoding)[0]\n",
        "        similarities[female] = distance\n",
        "\n",
        "    # 가장 유사한 사람과 가장 유사하지 않은 사람 찾기\n",
        "    most_similar = min(similarities, key=similarities.get)\n",
        "    least_similar = max(similarities, key=similarities.get)\n",
        "\n",
        "    print(f\"남자 {target_male}와 가장 유사한 사람: {most_similar} (유사도: {similarities[most_similar]})\")\n",
        "    print(f\"남자 {target_male}와 가장 유사하지 않은 사람: {least_similar} (유사도: {similarities[least_similar]})\")\n"
      ],
      "metadata": {
        "colab": {
          "base_uri": "https://localhost:8080/"
        },
        "id": "VPjdU2FE5VPx",
        "outputId": "81fe511e-065f-4e0b-bcdf-ac2f81abf248"
      },
      "execution_count": null,
      "outputs": [
        {
          "output_type": "stream",
          "name": "stdout",
          "text": [
            "모든 파일이 존재합니다.\n",
            "남자 1_M.jpeg와 가장 유사한 사람: 17_F.jpeg (유사도: 0.432739059668433)\n",
            "남자 1_M.jpeg와 가장 유사하지 않은 사람: 8_F.jpeg (유사도: 0.8653470364954269)\n",
            "남자 2_M.jpeg와 가장 유사한 사람: 1_F.jpeg (유사도: 0.41918852835283255)\n",
            "남자 2_M.jpeg와 가장 유사하지 않은 사람: 8_F.jpeg (유사도: 0.927281946777246)\n",
            "남자 3_M.jpeg와 가장 유사한 사람: 18_F.jpeg (유사도: 0.5991096672419246)\n",
            "남자 3_M.jpeg와 가장 유사하지 않은 사람: 8_F.jpeg (유사도: 0.7985422227422773)\n",
            "남자 4_M.jpeg와 가장 유사한 사람: 14_F.jpeg (유사도: 0.44046454775016375)\n",
            "남자 4_M.jpeg와 가장 유사하지 않은 사람: 8_F.jpeg (유사도: 0.8304519627676109)\n",
            "남자 5_M.jpeg와 가장 유사한 사람: 6_F.jpeg (유사도: 0.48957097649847975)\n",
            "남자 5_M.jpeg와 가장 유사하지 않은 사람: 8_F.jpeg (유사도: 0.9693151431909157)\n",
            "남자 6_M.jpeg와 가장 유사한 사람: 18_F.jpeg (유사도: 0.46705589417520305)\n",
            "남자 6_M.jpeg와 가장 유사하지 않은 사람: 9_F.jpeg (유사도: 0.8455235995084854)\n",
            "남자 7_M.jpeg와 가장 유사한 사람: 1_F.jpeg (유사도: 0.46829620554354656)\n",
            "남자 7_M.jpeg와 가장 유사하지 않은 사람: 9_F.jpeg (유사도: 0.8895220010381261)\n",
            "8_M.jpeg의 얼굴 인코딩을 찾을 수 없습니다.\n",
            "9_M.jpeg의 얼굴 인코딩을 찾을 수 없습니다.\n",
            "남자 10_M.jpeg와 가장 유사한 사람: 1_F.jpeg (유사도: 0.43888959861384685)\n",
            "남자 10_M.jpeg와 가장 유사하지 않은 사람: 8_F.jpeg (유사도: 0.9309985054717206)\n",
            "11_M.jpeg의 얼굴 인코딩을 찾을 수 없습니다.\n",
            "남자 12_M.jpeg와 가장 유사한 사람: 1_F.jpeg (유사도: 0.4357000258707621)\n",
            "남자 12_M.jpeg와 가장 유사하지 않은 사람: 8_F.jpeg (유사도: 0.8906922097772751)\n",
            "남자 13_M.jpeg와 가장 유사한 사람: 14_F.jpeg (유사도: 0.6606062146578124)\n",
            "남자 13_M.jpeg와 가장 유사하지 않은 사람: 9_F.jpeg (유사도: 0.8377023309191826)\n",
            "남자 14_M.jpeg와 가장 유사한 사람: 1_F.jpeg (유사도: 0.4787779955919662)\n",
            "남자 14_M.jpeg와 가장 유사하지 않은 사람: 9_F.jpeg (유사도: 0.916415905435769)\n",
            "남자 15_M.jpeg와 가장 유사한 사람: 1_F.jpeg (유사도: 0.3885018282052957)\n",
            "남자 15_M.jpeg와 가장 유사하지 않은 사람: 9_F.jpeg (유사도: 0.8771442928749592)\n",
            "남자 16_M.jpeg와 가장 유사한 사람: 1_F.jpeg (유사도: 0.43514856021128995)\n",
            "남자 16_M.jpeg와 가장 유사하지 않은 사람: 9_F.jpeg (유사도: 0.9099941158736632)\n",
            "남자 17_M.jpeg와 가장 유사한 사람: 1_F.jpeg (유사도: 0.5105487281838282)\n",
            "남자 17_M.jpeg와 가장 유사하지 않은 사람: 8_F.jpeg (유사도: 0.8762901833958798)\n",
            "남자 18_M.jpeg와 가장 유사한 사람: 1_F.jpeg (유사도: 0.39625449339362595)\n",
            "남자 18_M.jpeg와 가장 유사하지 않은 사람: 9_F.jpeg (유사도: 0.8575053939933085)\n",
            "남자 19_M.jpeg와 가장 유사한 사람: 17_F.jpeg (유사도: 0.48172299306422206)\n",
            "남자 19_M.jpeg와 가장 유사하지 않은 사람: 8_F.jpeg (유사도: 0.8784867138249036)\n",
            "20_M.jpeg의 얼굴 인코딩을 찾을 수 없습니다.\n",
            "21_M.jpeg의 얼굴 인코딩을 찾을 수 없습니다.\n",
            "남자 22_M.jpeg와 가장 유사한 사람: 1_F.jpeg (유사도: 0.42404284147626714)\n",
            "남자 22_M.jpeg와 가장 유사하지 않은 사람: 8_F.jpeg (유사도: 0.8880739518826087)\n",
            "남자 23_M.jpeg와 가장 유사한 사람: 6_F.jpeg (유사도: 0.4365608736550224)\n",
            "남자 23_M.jpeg와 가장 유사하지 않은 사람: 9_F.jpeg (유사도: 0.82679379147443)\n",
            "남자 24_M.jpeg와 가장 유사한 사람: 19_F.jpeg (유사도: 0.633293687396223)\n",
            "남자 24_M.jpeg와 가장 유사하지 않은 사람: 9_F.jpeg (유사도: 0.7436377033625649)\n",
            "남자 25_M.jpeg와 가장 유사한 사람: 1_F.jpeg (유사도: 0.4770553662770739)\n",
            "남자 25_M.jpeg와 가장 유사하지 않은 사람: 9_F.jpeg (유사도: 0.919378400266501)\n",
            "남자 26_M.jpeg와 가장 유사한 사람: 12_F.jpeg (유사도: 0.47902091917433415)\n",
            "남자 26_M.jpeg와 가장 유사하지 않은 사람: 8_F.jpeg (유사도: 0.8952793256576104)\n",
            "남자 27_M.jpeg와 가장 유사한 사람: 21_F.jpeg (유사도: 0.38403525006823463)\n",
            "남자 27_M.jpeg와 가장 유사하지 않은 사람: 9_F.jpeg (유사도: 0.89456971379031)\n",
            "28_M.jpeg의 얼굴 인코딩을 찾을 수 없습니다.\n",
            "남자 29_M.jpeg와 가장 유사한 사람: 7_F.jpeg (유사도: 0.4918791803550094)\n",
            "남자 29_M.jpeg와 가장 유사하지 않은 사람: 9_F.jpeg (유사도: 0.7822623678482397)\n",
            "남자 30_M.jpeg와 가장 유사한 사람: 11_F.jpeg (유사도: 0.4782378984053563)\n",
            "남자 30_M.jpeg와 가장 유사하지 않은 사람: 8_F.jpeg (유사도: 0.8818991835005182)\n",
            "31_M.jpeg의 얼굴 인코딩을 찾을 수 없습니다.\n",
            "32_M.jpeg의 얼굴 인코딩을 찾을 수 없습니다.\n"
          ]
        }
      ]
    },
    {
      "cell_type": "markdown",
      "source": [
        "### 유사도 높은 남녀 / 유사도 낮은 남녀 매칭\n",
        "\n",
        "가장 유사도가 낮은 매칭에 외국인 여성 8, 9번이 모두 매칭되는 문제를 해결하기 위해 8,9번을 제외하고 실험해봄.\n",
        "\n",
        "하나의 값이 중복되는 경우는 줄었지만 여전히 중복값 존재."
      ],
      "metadata": {
        "id": "nrdBu9C281w6"
      }
    },
    {
      "cell_type": "code",
      "source": [
        "import os\n",
        "import face_recognition\n",
        "\n",
        "# 이미지 폴더 경로\n",
        "image_folder = '/content/drive/MyDrive/images_3'\n",
        "\n",
        "# 남자와 여자 이미지 파일명 리스트 생성\n",
        "male_files = [f'{i}_M.jpeg' for i in range(1, 33)]\n",
        "female_files = [f'{i}_F.jpeg' for i in range(1, 23) if i not in [8, 9]]\n",
        "\n",
        "# 이미지 파일 경로 확인\n",
        "all_files = male_files + female_files\n",
        "missing_files = [file for file in all_files if not os.path.exists(os.path.join(image_folder, file))]\n",
        "\n",
        "if missing_files:\n",
        "    print(\"다음 파일들이 존재하지 않습니다:\")\n",
        "    for file in missing_files:\n",
        "        print(file)\n",
        "else:\n",
        "    print(\"모든 파일이 존재합니다.\")\n",
        "\n",
        "# 얼굴 인코딩을 저장할 딕셔너리\n",
        "male_encodings = {}\n",
        "female_encodings = {}\n",
        "\n",
        "# 남자 얼굴 인코딩\n",
        "for file in male_files:\n",
        "    img_path = os.path.join(image_folder, file)\n",
        "    image = face_recognition.load_image_file(img_path)\n",
        "    encoding = face_recognition.face_encodings(image)\n",
        "    if encoding:\n",
        "        male_encodings[file] = encoding[0]\n",
        "\n",
        "# 여자 얼굴 인코딩\n",
        "for file in female_files:\n",
        "    img_path = os.path.join(image_folder, file)\n",
        "    image = face_recognition.load_image_file(img_path)\n",
        "    encoding = face_recognition.face_encodings(image)\n",
        "    if encoding:\n",
        "        female_encodings[file] = encoding[0]\n",
        "\n",
        "# 모든 남자 이미지 대상으로 비교\n",
        "for target_male in male_files:\n",
        "    target_encoding = male_encodings.get(target_male)\n",
        "    if target_encoding is None:\n",
        "        print(f\"{target_male}의 얼굴 인코딩을 찾을 수 없습니다.\")\n",
        "        continue\n",
        "\n",
        "    # 유사도 계산\n",
        "    similarities = {}\n",
        "    for female, encoding in female_encodings.items():\n",
        "        distance = face_recognition.face_distance([target_encoding], encoding)[0]\n",
        "        similarities[female] = distance\n",
        "\n",
        "    # 가장 유사한 사람과 가장 유사하지 않은 사람 찾기\n",
        "    most_similar = min(similarities, key=similarities.get)\n",
        "    least_similar = max(similarities, key=similarities.get)\n",
        "\n",
        "    print(f\"남자 {target_male}와 가장 유사한 사람: {most_similar} (유사도: {similarities[most_similar]})\")\n",
        "    print(f\"남자 {target_male}와 가장 유사하지 않은 사람: {least_similar} (유사도: {similarities[least_similar]})\")\n"
      ],
      "metadata": {
        "colab": {
          "base_uri": "https://localhost:8080/"
        },
        "id": "CAstjPObcQ1N",
        "outputId": "42264d0a-80cb-4c42-d1ca-05f4f405252f"
      },
      "execution_count": null,
      "outputs": [
        {
          "output_type": "stream",
          "name": "stdout",
          "text": [
            "모든 파일이 존재합니다.\n",
            "남자 1_M.jpeg와 가장 유사한 사람: 17_F.jpeg (유사도: 0.432739059668433)\n",
            "남자 1_M.jpeg와 가장 유사하지 않은 사람: 14_F.jpeg (유사도: 0.6421776415884894)\n",
            "남자 2_M.jpeg와 가장 유사한 사람: 1_F.jpeg (유사도: 0.41918852835283255)\n",
            "남자 2_M.jpeg와 가장 유사하지 않은 사람: 13_F.jpeg (유사도: 0.6133092081726357)\n",
            "남자 3_M.jpeg와 가장 유사한 사람: 18_F.jpeg (유사도: 0.5991096672419246)\n",
            "남자 3_M.jpeg와 가장 유사하지 않은 사람: 21_F.jpeg (유사도: 0.7257604818954753)\n",
            "남자 4_M.jpeg와 가장 유사한 사람: 14_F.jpeg (유사도: 0.44046454775016375)\n",
            "남자 4_M.jpeg와 가장 유사하지 않은 사람: 15_F.jpeg (유사도: 0.5962499954656073)\n",
            "남자 5_M.jpeg와 가장 유사한 사람: 6_F.jpeg (유사도: 0.48957097649847975)\n",
            "남자 5_M.jpeg와 가장 유사하지 않은 사람: 19_F.jpeg (유사도: 0.625339107710842)\n",
            "남자 6_M.jpeg와 가장 유사한 사람: 18_F.jpeg (유사도: 0.46705589417520305)\n",
            "남자 6_M.jpeg와 가장 유사하지 않은 사람: 15_F.jpeg (유사도: 0.6830558599724508)\n",
            "남자 7_M.jpeg와 가장 유사한 사람: 1_F.jpeg (유사도: 0.46829620554354656)\n",
            "남자 7_M.jpeg와 가장 유사하지 않은 사람: 14_F.jpeg (유사도: 0.6105120015296661)\n",
            "8_M.jpeg의 얼굴 인코딩을 찾을 수 없습니다.\n",
            "9_M.jpeg의 얼굴 인코딩을 찾을 수 없습니다.\n",
            "남자 10_M.jpeg와 가장 유사한 사람: 1_F.jpeg (유사도: 0.43888959861384685)\n",
            "남자 10_M.jpeg와 가장 유사하지 않은 사람: 16_F.jpeg (유사도: 0.6221048643673243)\n",
            "11_M.jpeg의 얼굴 인코딩을 찾을 수 없습니다.\n",
            "남자 12_M.jpeg와 가장 유사한 사람: 1_F.jpeg (유사도: 0.4357000258707621)\n",
            "남자 12_M.jpeg와 가장 유사하지 않은 사람: 18_F.jpeg (유사도: 0.5698744384115882)\n",
            "남자 13_M.jpeg와 가장 유사한 사람: 14_F.jpeg (유사도: 0.6606062146578124)\n",
            "남자 13_M.jpeg와 가장 유사하지 않은 사람: 15_F.jpeg (유사도: 0.8032780330583825)\n",
            "남자 14_M.jpeg와 가장 유사한 사람: 1_F.jpeg (유사도: 0.4787779955919662)\n",
            "남자 14_M.jpeg와 가장 유사하지 않은 사람: 13_F.jpeg (유사도: 0.6735736761654539)\n",
            "남자 15_M.jpeg와 가장 유사한 사람: 1_F.jpeg (유사도: 0.3885018282052957)\n",
            "남자 15_M.jpeg와 가장 유사하지 않은 사람: 18_F.jpeg (유사도: 0.5512170943308561)\n",
            "남자 16_M.jpeg와 가장 유사한 사람: 1_F.jpeg (유사도: 0.43514856021128995)\n",
            "남자 16_M.jpeg와 가장 유사하지 않은 사람: 21_F.jpeg (유사도: 0.5875459471938397)\n",
            "남자 17_M.jpeg와 가장 유사한 사람: 1_F.jpeg (유사도: 0.5105487281838282)\n",
            "남자 17_M.jpeg와 가장 유사하지 않은 사람: 16_F.jpeg (유사도: 0.723895864559426)\n",
            "남자 18_M.jpeg와 가장 유사한 사람: 1_F.jpeg (유사도: 0.39625449339362595)\n",
            "남자 18_M.jpeg와 가장 유사하지 않은 사람: 15_F.jpeg (유사도: 0.5776504135739137)\n",
            "남자 19_M.jpeg와 가장 유사한 사람: 17_F.jpeg (유사도: 0.48172299306422206)\n",
            "남자 19_M.jpeg와 가장 유사하지 않은 사람: 15_F.jpeg (유사도: 0.5923514146960481)\n",
            "20_M.jpeg의 얼굴 인코딩을 찾을 수 없습니다.\n",
            "21_M.jpeg의 얼굴 인코딩을 찾을 수 없습니다.\n",
            "남자 22_M.jpeg와 가장 유사한 사람: 1_F.jpeg (유사도: 0.42404284147626714)\n",
            "남자 22_M.jpeg와 가장 유사하지 않은 사람: 15_F.jpeg (유사도: 0.6018364814678067)\n",
            "남자 23_M.jpeg와 가장 유사한 사람: 6_F.jpeg (유사도: 0.4365608736550224)\n",
            "남자 23_M.jpeg와 가장 유사하지 않은 사람: 12_F.jpeg (유사도: 0.5922435923425148)\n",
            "남자 24_M.jpeg와 가장 유사한 사람: 19_F.jpeg (유사도: 0.633293687396223)\n",
            "남자 24_M.jpeg와 가장 유사하지 않은 사람: 13_F.jpeg (유사도: 0.7427280716345322)\n",
            "남자 25_M.jpeg와 가장 유사한 사람: 1_F.jpeg (유사도: 0.4770553662770739)\n",
            "남자 25_M.jpeg와 가장 유사하지 않은 사람: 14_F.jpeg (유사도: 0.5743377159077035)\n",
            "남자 26_M.jpeg와 가장 유사한 사람: 12_F.jpeg (유사도: 0.47902091917433415)\n",
            "남자 26_M.jpeg와 가장 유사하지 않은 사람: 15_F.jpeg (유사도: 0.6741694686001837)\n",
            "남자 27_M.jpeg와 가장 유사한 사람: 21_F.jpeg (유사도: 0.38403525006823463)\n",
            "남자 27_M.jpeg와 가장 유사하지 않은 사람: 14_F.jpeg (유사도: 0.5537314077121068)\n",
            "28_M.jpeg의 얼굴 인코딩을 찾을 수 없습니다.\n",
            "남자 29_M.jpeg와 가장 유사한 사람: 7_F.jpeg (유사도: 0.4918791803550094)\n",
            "남자 29_M.jpeg와 가장 유사하지 않은 사람: 15_F.jpeg (유사도: 0.6506041356334826)\n",
            "남자 30_M.jpeg와 가장 유사한 사람: 11_F.jpeg (유사도: 0.4782378984053563)\n",
            "남자 30_M.jpeg와 가장 유사하지 않은 사람: 13_F.jpeg (유사도: 0.5926870986980561)\n",
            "31_M.jpeg의 얼굴 인코딩을 찾을 수 없습니다.\n",
            "32_M.jpeg의 얼굴 인코딩을 찾을 수 없습니다.\n"
          ]
        }
      ]
    },
    {
      "cell_type": "markdown",
      "source": [
        "### 유사도가 높은 남녀 매칭_중복없음\n",
        "\n",
        "원활한 데이트 매칭을 위해, 한명이 하나 이상의 매칭에 중복되지 않도록 코드 수정."
      ],
      "metadata": {
        "id": "5CC7Pm5J8V7N"
      }
    },
    {
      "cell_type": "code",
      "source": [
        "import os\n",
        "import face_recognition\n",
        "\n",
        "# 이미지 폴더 경로\n",
        "image_folder = '/content/drive/MyDrive/images_3'\n",
        "\n",
        "\n",
        "# 남자와 여자 이미지 파일명 리스트 생성\n",
        "male_files = [f'{i}_M.jpeg' for i in range(1, 33)]\n",
        "female_files = [f'{i}_F.jpeg' for i in range(1, 23)]\n",
        "\n",
        "# 이미지 파일 경로 확인\n",
        "all_files = male_files + female_files\n",
        "missing_files = [file for file in all_files if not os.path.exists(os.path.join(image_folder, file))]\n",
        "\n",
        "if missing_files:\n",
        "    print(\"다음 파일들이 존재하지 않습니다:\")\n",
        "    for file in missing_files:\n",
        "        print(file)\n",
        "else:\n",
        "    print(\"모든 파일이 존재합니다.\")\n",
        "\n",
        "# 얼굴 인코딩을 저장할 딕셔너리\n",
        "male_encodings = {}\n",
        "female_encodings = {}\n",
        "\n",
        "# 남자 얼굴 인코딩\n",
        "for file in male_files:\n",
        "    img_path = os.path.join(image_folder, file)\n",
        "    image = face_recognition.load_image_file(img_path)\n",
        "    encoding = face_recognition.face_encodings(image)\n",
        "    if encoding:\n",
        "        male_encodings[file] = encoding[0]\n",
        "\n",
        "# 여자 얼굴 인코딩\n",
        "for file in female_files:\n",
        "    img_path = os.path.join(image_folder, file)\n",
        "    image = face_recognition.load_image_file(img_path)\n",
        "    encoding = face_recognition.face_encodings(image)\n",
        "    if encoding:\n",
        "        female_encodings[file] = encoding[0]\n",
        "\n",
        "# 모든 남자와 여자 간의 거리 계산\n",
        "distances = []\n",
        "for male, male_encoding in male_encodings.items():\n",
        "    for female, female_encoding in female_encodings.items():\n",
        "        distance = face_recognition.face_distance([male_encoding], female_encoding)[0]\n",
        "        distances.append((male, female, distance))\n",
        "\n",
        "# 거리 기준으로 정렬 (거리가 작은 순서대로)\n",
        "distances.sort(key=lambda x: x[2])\n",
        "\n",
        "# 매칭 결과와 이미 매칭된 남녀를 추적할 집합\n",
        "matches = []\n",
        "matched_males = set()\n",
        "matched_females = set()\n",
        "\n",
        "# 거리 순서대로 매칭 수행\n",
        "for male, female, distance in distances:\n",
        "    if male not in matched_males and female not in matched_females:\n",
        "        matches.append((male, female, distance))\n",
        "        matched_males.add(male)\n",
        "        matched_females.add(female)\n",
        "    # 모든 남성과 여성이 매칭되면 종료\n",
        "    if len(matched_males) == len(male_encodings) or len(matched_females) == len(female_encodings):\n",
        "        break\n",
        "\n",
        "# 매칭 결과 출력\n",
        "for male, female, distance in matches:\n",
        "    print(f\"남자 {male}와 여자 {female} 매칭 (거리: {distance})\")"
      ],
      "metadata": {
        "colab": {
          "base_uri": "https://localhost:8080/"
        },
        "id": "NFHC6IE2jwp4",
        "outputId": "53d0dc02-a9b1-45cf-8209-b6f983efbe0e"
      },
      "execution_count": null,
      "outputs": [
        {
          "output_type": "stream",
          "name": "stdout",
          "text": [
            "모든 파일이 존재합니다.\n",
            "남자 27_M.jpeg와 여자 21_F.jpeg 매칭 (거리: 0.38403525006823463)\n",
            "남자 15_M.jpeg와 여자 1_F.jpeg 매칭 (거리: 0.3885018282052957)\n",
            "남자 1_M.jpeg와 여자 17_F.jpeg 매칭 (거리: 0.432739059668433)\n",
            "남자 23_M.jpeg와 여자 6_F.jpeg 매칭 (거리: 0.4365608736550224)\n",
            "남자 18_M.jpeg와 여자 20_F.jpeg 매칭 (거리: 0.43753287009046965)\n",
            "남자 4_M.jpeg와 여자 14_F.jpeg 매칭 (거리: 0.44046454775016375)\n",
            "남자 16_M.jpeg와 여자 15_F.jpeg 매칭 (거리: 0.4521344388080061)\n",
            "남자 10_M.jpeg와 여자 12_F.jpeg 매칭 (거리: 0.458235162582762)\n",
            "남자 22_M.jpeg와 여자 7_F.jpeg 매칭 (거리: 0.46678751669638263)\n",
            "남자 6_M.jpeg와 여자 18_F.jpeg 매칭 (거리: 0.46705589417520305)\n",
            "남자 2_M.jpeg와 여자 4_F.jpeg 매칭 (거리: 0.4675173041882859)\n",
            "남자 30_M.jpeg와 여자 11_F.jpeg 매칭 (거리: 0.4782378984053563)\n",
            "남자 19_M.jpeg와 여자 19_F.jpeg 매칭 (거리: 0.4833208296294276)\n",
            "남자 12_M.jpeg와 여자 22_F.jpeg 매칭 (거리: 0.4848898162439117)\n",
            "남자 25_M.jpeg와 여자 10_F.jpeg 매칭 (거리: 0.5221648333734169)\n",
            "남자 29_M.jpeg와 여자 16_F.jpeg 매칭 (거리: 0.5294591073051343)\n",
            "남자 26_M.jpeg와 여자 13_F.jpeg 매칭 (거리: 0.5626413797840967)\n",
            "남자 24_M.jpeg와 여자 8_F.jpeg 매칭 (거리: 0.7270764661894039)\n",
            "남자 3_M.jpeg와 여자 9_F.jpeg 매칭 (거리: 0.7427740717168678)\n"
          ]
        }
      ]
    },
    {
      "cell_type": "markdown",
      "source": [
        "## Deepface 라이브러리를 활용한 유사도 계산"
      ],
      "metadata": {
        "id": "Y4A-WWJs_i2m"
      }
    },
    {
      "cell_type": "code",
      "source": [
        "distances = []\n",
        "for male, male_encoding in male_encodings.items():\n",
        "    for female, female_encoding in female_encodings.items():\n",
        "        distance = face_recognition.face_distance([male_encoding], female_encoding)[0]\n",
        "        distances.append((male, female, distance))\n",
        "\n",
        "# 거리 기준으로 정렬 (거리가 작은 순서대로)\n",
        "distances.sort(key=lambda x: x[2], reverse=True)\n",
        "\n",
        "# 매칭 결과와 이미 매칭된 남녀를 추적할 집합\n",
        "matches = []\n",
        "matched_males = set()\n",
        "matched_females = set()\n",
        "\n",
        "# 거리 순서대로 매칭 수행\n",
        "for male, female, distance in distances:\n",
        "    if male not in matched_males and female not in matched_females:\n",
        "        matches.append((male, female, distance))\n",
        "        matched_males.add(male)\n",
        "        matched_females.add(female)\n",
        "    # 모든 남성과 여성이 매칭되면 종료\n",
        "    if len(matched_males) == len(male_encodings) or len(matched_females) == len(female_encodings):\n",
        "        break\n",
        "\n",
        "# 매칭 결과 출력\n",
        "for male, female, distance in matches:\n",
        "    print(f\"남자 {male}와 여자 {female} 매칭 (거리: {distance})\")"
      ],
      "metadata": {
        "colab": {
          "base_uri": "https://localhost:8080/"
        },
        "id": "NQVcs4_bbW_W",
        "outputId": "5c3a0d8d-9e9e-4073-93f3-0ee0cf9f6e51"
      },
      "execution_count": null,
      "outputs": [
        {
          "output_type": "stream",
          "name": "stdout",
          "text": [
            "남자 23_M.jpeg와 여자 9_F.jpeg 매칭 (거리: 18.647097078708608)\n",
            "남자 2_M.jpeg와 여자 8_F.jpeg 매칭 (거리: 17.234977847436085)\n",
            "남자 3_M.jpeg와 여자 22_F.jpeg 매칭 (거리: 14.451637562323622)\n",
            "남자 8_M.jpeg와 여자 7_F.jpeg 매칭 (거리: 14.3850636933572)\n",
            "남자 6_M.jpeg와 여자 20_F.jpeg 매칭 (거리: 13.949519971389464)\n",
            "남자 1_M.jpeg와 여자 14_F.jpeg 매칭 (거리: 13.596740057865047)\n",
            "남자 16_M.jpeg와 여자 6_F.jpeg 매칭 (거리: 12.878639636552172)\n",
            "남자 14_M.jpeg와 여자 13_F.jpeg 매칭 (거리: 12.625111508688661)\n",
            "남자 15_M.jpeg와 여자 18_F.jpeg 매칭 (거리: 11.895159551513343)\n",
            "남자 18_M.jpeg와 여자 15_F.jpeg 매칭 (거리: 11.872096843634134)\n",
            "남자 26_M.jpeg와 여자 1_F.jpeg 매칭 (거리: 10.658648412213033)\n",
            "남자 31_M.jpeg와 여자 11_F.jpeg 매칭 (거리: 9.95670627408424)\n",
            "남자 19_M.jpeg와 여자 4_F.jpeg 매칭 (거리: 9.794089778742975)\n",
            "남자 10_M.jpeg와 여자 2_F.jpeg 매칭 (거리: 9.468234745190552)\n",
            "남자 21_M.jpeg와 여자 16_F.jpeg 매칭 (거리: 5.519047694734929)\n",
            "남자 7_M.jpeg와 여자 21_F.jpeg 매칭 (거리: 5.468338332807378)\n",
            "남자 5_M.jpeg와 여자 10_F.jpeg 매칭 (거리: 4.310535237728313)\n"
          ]
        }
      ]
    },
    {
      "cell_type": "markdown",
      "source": [
        "## 유사도 계산 후, CSV 파일로 결과 저장하기"
      ],
      "metadata": {
        "id": "FB3LBkwTAb8p"
      }
    },
    {
      "cell_type": "code",
      "source": [
        "\n",
        "import os\n",
        "import pandas as pd\n",
        "import face_recognition\n",
        "\n",
        "# 이미지 폴더 경로\n",
        "image_folder = '/content/drive/MyDrive/images_3'\n",
        "\n",
        "# 남자와 여자 이미지 파일명 리스트 생성\n",
        "male_files = [f'{i}_M.jpeg' for i in range(1, 33)]\n",
        "female_files = [f'{i}_F.jpeg' for i in range(1, 23)]\n",
        "\n",
        "# 이미지 파일 경로 확인\n",
        "all_files = male_files + female_files\n",
        "missing_files = [file for file in all_files if not os.path.exists(os.path.join(image_folder, file))]\n",
        "\n",
        "if missing_files:\n",
        "    print(\"다음 파일들이 존재하지 않습니다:\")\n",
        "    for file in missing_files:\n",
        "        print(file)\n",
        "else:\n",
        "    print(\"모든 파일이 존재합니다.\")\n",
        "\n",
        "# 얼굴 인코딩을 저장할 딕셔너리\n",
        "male_encodings = {}\n",
        "female_encodings = {}\n",
        "\n",
        "# 남자 얼굴 인코딩\n",
        "for file in male_files:\n",
        "    img_path = os.path.join(image_folder, file)\n",
        "    image = face_recognition.load_image_file(img_path)\n",
        "    encoding = face_recognition.face_encodings(image)\n",
        "    if encoding:\n",
        "        male_encodings[file] = encoding[0]\n",
        "\n",
        "# 여자 얼굴 인코딩\n",
        "for file in female_files:\n",
        "    img_path = os.path.join(image_folder, file)\n",
        "    image = face_recognition.load_image_file(img_path)\n",
        "    encoding = face_recognition.face_encodings(image)\n",
        "    if encoding:\n",
        "        female_encodings[file] = encoding[0]\n",
        "\n",
        "# 결과를 저장할 데이터프레임 생성\n",
        "columns = ['Female'] + male_files\n",
        "results_df = pd.DataFrame(columns=columns)\n",
        "\n",
        "# 각 여성을 32명의 남자와 비교하여 유사도 값을 계산하고 데이터프레임에 추가\n",
        "for female, female_encoding in female_encodings.items():\n",
        "    distances = {'Female': female}\n",
        "    for male, male_encoding in male_encodings.items():\n",
        "        distance = face_recognition.face_distance([male_encoding], female_encoding)[0]\n",
        "        distances[male] = distance\n",
        "    results_df = pd.concat([results_df, pd.DataFrame([distances])], ignore_index=True)\n",
        "\n",
        "# 결과를 CSV 파일로 저장\n",
        "results_df.to_csv('face_comparison_results.csv', index=False)\n",
        "print(\"결과가 face_comparison_results.csv 파일에 저장되었습니다.\")\n",
        "\n"
      ],
      "metadata": {
        "colab": {
          "base_uri": "https://localhost:8080/"
        },
        "id": "ouoNv00RTXVK",
        "outputId": "a2c116d4-5a9e-45bc-a2ac-12b85a19013c"
      },
      "execution_count": null,
      "outputs": [
        {
          "output_type": "stream",
          "name": "stdout",
          "text": [
            "모든 파일이 존재합니다.\n",
            "결과가 face_comparison_results.csv 파일에 저장되었습니다.\n"
          ]
        }
      ]
    },
    {
      "cell_type": "markdown",
      "source": [
        "### CSV 파일을 읽어서 최대값과 최소값 찾기"
      ],
      "metadata": {
        "id": "uqv15Za1Bg8j"
      }
    },
    {
      "cell_type": "code",
      "source": [
        "import pandas as pd\n",
        "\n",
        "# CSV 파일 읽기\n",
        "df = pd.read_csv('/content/face_comparison_results.csv', sep='\\t')\n",
        "\n",
        "# Female 행들만 추출\n",
        "female_rows = df.iloc[1:, :]\n",
        "\n",
        "# 결과를 저장할 딕셔너리\n",
        "results = {}\n",
        "\n",
        "# 각 행에서 최대값과 최소값을 찾고 겹치지 않도록 조정\n",
        "for index, row in female_rows.iterrows():\n",
        "    row_data = row[1:].dropna().astype(float)  # 첫 번째 컬럼은 이미지 이름이므로 제외\n",
        "\n",
        "    # NaN 값을 무시하고 최대값과 최소값의 인덱스를 찾기\n",
        "    if not row_data.empty:\n",
        "        max_val = row_data.max()\n",
        "        min_val = row_data.min()\n",
        "\n",
        "        # 최대값과 최소값의 인덱스를 찾기\n",
        "        max_idx = row_data.idxmax()\n",
        "        min_idx = row_data.idxmin()\n",
        "\n",
        "        # 겹치지 않도록 최대값과 최소값 조정\n",
        "        for other_index, other_row in female_rows.iterrows():\n",
        "            if other_index == index:\n",
        "                continue\n",
        "            other_data = other_row[1:].dropna().astype(float)\n",
        "            if not other_data.empty:\n",
        "                if max_val == other_data.max():\n",
        "                    row_data.drop(max_idx, inplace=True)\n",
        "                    if not row_data.empty:\n",
        "                        max_val = row_data.max()\n",
        "                        max_idx = row_data.idxmax()\n",
        "                    else:\n",
        "                        max_val = None\n",
        "                        max_idx = None\n",
        "                if min_val == other_data.min():\n",
        "                    row_data.drop(min_idx, inplace=True)\n",
        "                    if not row_data.empty:\n",
        "                        min_val = row_data.min()\n",
        "                        min_idx = row_data.idxmin()\n",
        "                    else:\n",
        "                        min_val = None\n",
        "                        min_idx = None\n",
        "\n",
        "        # 결과 저장\n",
        "        results[row[0]] = {'max': (max_idx, max_val), 'min': (min_idx, min_val)}\n",
        "    else:\n",
        "        results[row[0]] = {'max': (None, None), 'min': (None, None)}\n",
        "\n",
        "# 결과 출력\n",
        "for female, values in results.items():\n",
        "    max_col, max_val = values['max']\n",
        "    min_col, min_val = values['min']\n",
        "    print(f\"{female}: 최대값 - {max_val} (컬럼: {max_col}), 최소값 - {min_val} (컬럼: {min_col})\")\n",
        "\n"
      ],
      "metadata": {
        "colab": {
          "base_uri": "https://localhost:8080/"
        },
        "id": "085fpZfZey3I",
        "outputId": "d484826f-dca8-4106-fd65-d8c9cbd2dd90"
      },
      "execution_count": null,
      "outputs": [
        {
          "output_type": "stream",
          "name": "stdout",
          "text": [
            "4_F.jpeg,0.5625850637183426,0.4675173041882859,0.6477504050939262,0.529279125703613,0.5784796712510802,0.5668478405665237,0.5523009326311369,,,0.5278265300553353,,0.5350534907774163,0.7291798846587569,0.5605398708018408,0.49835769403694796,0.5759964969540938,0.6621506442672068,0.5138731074761806,0.5342885416863633,,,0.5462124851918638,0.5381735459964104,0.6756919695993202,0.5349429387761441,0.5925691551989943,0.4988883900382493,,0.5575324546426964,0.5540883421559654,,: 최대값 - None (컬럼: None), 최소값 - None (컬럼: None)\n",
            "6_F.jpeg,0.48983886258954606,0.5126492095238753,0.638253579714369,0.5157785600011079,0.48957097649847975,0.6297547637091386,0.5224555579115986,,,0.4921957363599714,,0.5441041217697404,0.6975705314739532,0.5332177726166936,0.5128701092943889,0.584631344138958,0.5520289153276092,0.49276412492677346,0.5244503691419217,,,0.5178469573933767,0.4365608736550224,0.6483361579813159,0.519516127636214,0.6111767158899488,0.4529346702887254,,0.5690933892981392,0.5803791517192516,,: 최대값 - None (컬럼: None), 최소값 - None (컬럼: None)\n",
            "7_F.jpeg,0.47558839995285224,0.4766081287323902,0.6211645880618684,0.4785277661656847,0.541232390602195,0.544282043603407,0.5431568483273532,,,0.4900523275896525,,0.4897466004057909,0.688434358319962,0.5223482719916615,0.4094771104618696,0.5132926576049082,0.5905938296306288,0.4565468106276367,0.4822758445020421,,,0.46678751669638263,0.5290142222511419,0.6837728195621352,0.48675047071495137,0.5383717019453366,0.4671922318919921,,0.4918791803550094,0.4839724393006535,,: 최대값 - None (컬럼: None), 최소값 - None (컬럼: None)\n",
            "8_F.jpeg,0.8653470364954269,0.927281946777246,0.7985422227422773,0.8304519627676109,0.9693151431909157,0.8392823035444255,0.8746400023923246,,,0.9309985054717206,,0.8906922097772751,0.8269414798755068,0.8977753977641547,0.8661515815522167,0.8980303803336549,0.8762901833958798,0.8198855017026686,0.8784867138249036,,,0.8880739518826087,0.7995324179000389,0.7270764661894039,0.9147885793323766,0.8952793256576104,0.8837962933052066,,0.754396823032786,0.8818991835005182,,: 최대값 - None (컬럼: None), 최소값 - None (컬럼: None)\n",
            "9_F.jpeg,0.8366504587770764,0.9220685333442268,0.7427740717168678,0.7769284862499078,0.9600225128358397,0.8455235995084854,0.8895220010381261,,,0.8745513917213525,,0.8877066761823944,0.8377023309191826,0.916415905435769,0.8771442928749592,0.9099941158736632,0.8480856309195431,0.8575053939933085,0.8496243173306205,,,0.8846795483650486,0.82679379147443,0.7436377033625649,0.919378400266501,0.8895404072865593,0.89456971379031,,0.7822623678482397,0.8513313094066033,,: 최대값 - None (컬럼: None), 최소값 - None (컬럼: None)\n",
            "10_F.jpeg,0.5308882945603268,0.5552441505079133,0.6439535805316344,0.46185482190117894,0.5289115974131111,0.6465716067404642,0.5454624525780254,,,0.4818359141002236,,0.5661485146328205,0.7158368202460483,0.5232816272095041,0.5031371551085068,0.5764340009257898,0.6376098557442559,0.48143905344667776,0.5627907042193693,,,0.5082208422399651,0.5359043291412063,0.6875926414984845,0.5221648333734169,0.5756530780983218,0.49593558867793924,,0.5660825013591418,0.5125754843476846,,: 최대값 - None (컬럼: None), 최소값 - None (컬럼: None)\n",
            "11_F.jpeg,0.5501750575985958,0.5426516179491597,0.6101850900028556,0.4432427405502907,0.5107549775104056,0.5482084780459202,0.5782139455063522,,,0.5178255328006935,,0.5438754365008197,0.7064135044059843,0.5719121197778549,0.4875682598500488,0.5686586481777111,0.5859303465853924,0.5132206667921534,0.49417334793269696,,,0.49852412008683544,0.5393177889407673,0.6836548036047396,0.5011086865197112,0.5489388412899572,0.5147484675107294,,0.5478226809989231,0.4782378984053563,,: 최대값 - None (컬럼: None), 최소값 - None (컬럼: None)\n",
            "12_F.jpeg,0.5800573177901504,0.48333550605035935,0.6768389140626974,0.47339956133350386,0.5683097295314884,0.6448145191146906,0.5889994852170518,,,0.458235162582762,,0.5108420547975636,0.7317647400168487,0.5610633177757142,0.45881223787734854,0.5360731209310491,0.5852587592945833,0.5554618328030648,0.5300713012547286,,,0.49504445817774073,0.5922435923425148,0.6733818161928002,0.5443811058588649,0.47902091917433415,0.47871463262243896,,0.5728090022838653,0.5059036986595797,,: 최대값 - None (컬럼: None), 최소값 - None (컬럼: None)\n",
            "13_F.jpeg,0.611681896389709,0.6133092081726357,0.6538888595575248,0.5545032253378153,0.5732607398758586,0.6100869767383728,0.5691285062773774,,,0.5730129817182091,,0.48745293964619757,0.7979472374512686,0.6735736761654539,0.5111339329036683,0.5734485036472861,0.6714991621924477,0.5653962374634144,0.540883895642408,,,0.5896738741659768,0.5338021208086814,0.7427280716345322,0.5554406609229509,0.5626413797840967,0.5029525694657537,,0.5769027745582783,0.5926870986980561,,: 최대값 - None (컬럼: None), 최소값 - None (컬럼: None)\n",
            "14_F.jpeg,0.6421776415884894,0.5403594594754186,0.6670645302539998,0.44046454775016375,0.6106880195664223,0.6439205364592934,0.6105120015296661,,,0.5578842771500345,,0.5203705946799626,0.6606062146578124,0.6081046710888008,0.5124098944258598,0.48139277505595957,0.6299407780673661,0.5246937899628263,0.5590673135896358,,,0.5765501918804159,0.5618431980466015,0.6961565028073363,0.5743377159077035,0.6316146485137127,0.5537314077121068,,0.5779018788841516,0.5674945801474399,,: 최대값 - None (컬럼: None), 최소값 - None (컬럼: None)\n",
            "15_F.jpeg,0.6274746041382423,0.5578155209789963,0.7179193762829318,0.5962499954656073,0.6018163567137318,0.6830558599724508,0.596860784574454,,,0.5544143633279185,,0.505472337142148,0.8032780330583825,0.6442175676235281,0.5376107968271843,0.4521344388080061,0.592701105319851,0.5776504135739137,0.5923514146960481,,,0.6018364814678067,0.5295438779699911,0.7417160880066904,0.5679595909666112,0.6741694686001837,0.5383307324685598,,0.6506041356334826,0.5816269835357006,,: 최대값 - None (컬럼: None), 최소값 - None (컬럼: None)\n",
            "16_F.jpeg,0.6231847142828134,0.5926396891832791,0.690266002952639,0.4875546686087739,0.6174323254508812,0.5742360440495352,0.5946093666399505,,,0.6221048643673243,,0.530083000058306,0.7164481951230507,0.5997469707378338,0.48338747386121983,0.540562942870281,0.723895864559426,0.5139996596800344,0.569741356839206,,,0.584279747618897,0.5095634998610353,0.6567510398300475,0.5397950165586318,0.6052853529131323,0.5049545620144957,,0.5294591073051343,0.5869488429271635,,: 최대값 - None (컬럼: None), 최소값 - None (컬럼: None)\n",
            "17_F.jpeg,0.432739059668433,0.49576020149106936,0.6464896240264403,0.4745662287540678,0.5028211562810763,0.561458728581334,0.5070148162987583,,,0.48281813897754966,,0.49695899493892093,0.7551227199695331,0.5115634087752287,0.46043164204669407,0.5704459638996013,0.5751122466417508,0.45846071727979315,0.48172299306422206,,,0.5027176751052351,0.4759125238506301,0.693827626268475,0.4969514732395879,0.6023822337532089,0.4723790421847432,,0.5592940200416617,0.5213920403567235,,: 최대값 - None (컬럼: None), 최소값 - None (컬럼: None)\n",
            "18_F.jpeg,0.5735376907253846,0.5916421011883696,0.5991096672419246,0.570464244685013,0.574125461395139,0.46705589417520305,0.5828966066721721,,,0.5983186903752081,,0.5698744384115882,0.7934473500571373,0.5838093505429401,0.5512170943308561,0.5642394524843187,0.5962079206695371,0.5473825346510344,0.5051680922518439,,,0.5406264880721049,0.46673491821847424,0.6632153003895366,0.5268026387031425,0.6304591153165819,0.5324922412073131,,0.6154856521333867,0.4976763396902203,,: 최대값 - None (컬럼: None), 최소값 - None (컬럼: None)\n",
            "19_F.jpeg,0.5326398162792373,0.4904042071005499,0.6255358838820474,0.49295954584340657,0.625339107710842,0.5407137336024485,0.5670694925530401,,,0.4972739034369129,,0.4991090340038876,0.7110754095373262,0.504329916876005,0.4058491327399435,0.5100905308072802,0.6040799685562027,0.46042833165607683,0.4833208296294276,,,0.4854251156240649,0.5692362546852718,0.633293687396223,0.518107769734728,0.5122681625597806,0.4521068308928736,,0.5590689555892498,0.4816519867014732,,: 최대값 - None (컬럼: None), 최소값 - None (컬럼: None)\n",
            "20_F.jpeg,0.5909851958672334,0.5690679609971684,0.6261955682800905,0.5083119526707783,0.62513317004607,0.6153836117081147,0.5965019017613992,,,0.5968532623834167,,0.5013731170134269,0.6752426937051997,0.5858465994020655,0.5134480537776471,0.4589160091437246,0.6780935502492865,0.43753287009046965,0.5685412795717635,,,0.5639326491615086,0.4760305775549116,0.678685849087165,0.5542544942276353,0.6142893956429851,0.5393335250039327,,0.5456931862988417,0.5434678464298862,,: 최대값 - None (컬럼: None), 최소값 - None (컬럼: None)\n",
            "21_F.jpeg,0.5327490982466689,0.4851548810085629,0.7257604818954753,0.5449919982332194,0.5691227871681834,0.6010601298391274,0.556338935500418,,,0.5012717361047119,,0.561823633400347,0.769317030789263,0.5312836422606616,0.42852091689244687,0.5875459471938397,0.6202146083945485,0.466225020200123,0.4873642791690815,,,0.4857592033940157,0.5517999482211107,0.684829805108558,0.5394755320953292,0.5482814277101352,0.38403525006823463,,0.5447720885469219,0.5890190252243376,,: 최대값 - None (컬럼: None), 최소값 - None (컬럼: None)\n",
            "22_F.jpeg,0.5682428358117486,0.5656550997308104,0.6162413349427085,0.4936206667336571,0.5837329731806271,0.6112995305707258,0.5402832153862857,,,0.5527709258419917,,0.4848898162439117,0.6895529700762104,0.6095196099761068,0.5156491323523557,0.5368865787503341,0.6401182578672758,0.48346088308758883,0.5513868302144529,,,0.5569935572565562,0.5031102888972371,0.6594394690093022,0.5615905786590717,0.5791248350861892,0.5028802521895201,,0.5656700227135197,0.5334667298184455,,: 최대값 - None (컬럼: None), 최소값 - None (컬럼: None)\n"
          ]
        }
      ]
    }
  ]
}